{
 "cells": [
  {
   "cell_type": "code",
   "execution_count": 1,
   "metadata": {},
   "outputs": [],
   "source": [
    "from pyteomics import pepxml\n",
    "import pandas as pd\n",
    "from glob import iglob"
   ]
  },
  {
   "cell_type": "code",
   "execution_count": 2,
   "metadata": {},
   "outputs": [
    {
     "name": "stderr",
     "output_type": "stream",
     "text": [
      "/tmp/ipykernel_17346/1024717841.py:14: FutureWarning: The default value of regex will change from True to False in a future version.\n",
      "  ms_frag_result['MODIFIED_SEQUENCE'] = ms_frag_result['MODIFIED_SEQUENCE'].str.replace('n\\[43\\]','[UNIMOD:1]-')\n",
      "/tmp/ipykernel_17346/1024717841.py:14: FutureWarning: The default value of regex will change from True to False in a future version.\n",
      "  ms_frag_result['MODIFIED_SEQUENCE'] = ms_frag_result['MODIFIED_SEQUENCE'].str.replace('n\\[43\\]','[UNIMOD:1]-')\n",
      "/tmp/ipykernel_17346/1024717841.py:14: FutureWarning: The default value of regex will change from True to False in a future version.\n",
      "  ms_frag_result['MODIFIED_SEQUENCE'] = ms_frag_result['MODIFIED_SEQUENCE'].str.replace('n\\[43\\]','[UNIMOD:1]-')\n",
      "/tmp/ipykernel_17346/1024717841.py:14: FutureWarning: The default value of regex will change from True to False in a future version.\n",
      "  ms_frag_result['MODIFIED_SEQUENCE'] = ms_frag_result['MODIFIED_SEQUENCE'].str.replace('n\\[43\\]','[UNIMOD:1]-')\n"
     ]
    }
   ],
   "source": [
    "ms_fragger_path = '/home/thinkpad/HLA_Files/G0103/G0103_MSB/*/**.pepXML'\n",
    "paths = [f for f in iglob(ms_fragger_path)]\n",
    "ms_fragger_files = []\n",
    "for ms_fragger_path in paths:\n",
    "    ms_frag_result = pepxml.DataFrame(ms_fragger_path)\n",
    "    ms_frag_result['Decoy'] = ms_frag_result['protein'].apply(lambda x: 'rev' in str(x))\n",
    "    ms_frag_result['RAW_FILE'] = ms_frag_result['spectrum'].apply(lambda x: x.split('.')[0])\n",
    "    ms_frag_result['RETENTION_TIME'] = ms_frag_result['retention_time_sec'].apply(lambda x: x/60.0)\n",
    "    ms_frag_result['MASS'] = ms_frag_result['precursor_neutral_mass']\n",
    "    ms_frag_result['PEPTIDE_LENGTH'] = ms_frag_result['peptide'].apply(lambda x: len(x))\n",
    "    ms_frag_result['MODIFIED_SEQUENCE'] = ms_frag_result['modified_peptide']\n",
    "    ms_frag_result['MODIFIED_SEQUENCE'] = ms_frag_result['MODIFIED_SEQUENCE'].str.replace('147','UNIMOD:35')\n",
    "    ms_frag_result['MODIFIED_SEQUENCE'] = ms_frag_result['MODIFIED_SEQUENCE'].str.replace('160','UNIMOD:4')\n",
    "    ms_frag_result['MODIFIED_SEQUENCE'] = ms_frag_result['MODIFIED_SEQUENCE'].str.replace('n\\[43\\]','[UNIMOD:1]-')\n",
    "\n",
    "\n",
    "    ms_frag_result.rename(columns={'assumed_charge':'PRECURSOR_CHARGE','index':'SCAN_EVENT_NUMBER','Decoy':'REVERSE',\n",
    "                                  'peptide':'SEQUENCE','start_scan':'SCAN_NUMBER'},inplace=True)\n",
    "    ms_frag_result.rename(columns={'hyperscore':'SCORE'},inplace=True)\n",
    "    ms_fragger_files.append(ms_frag_result)\n",
    "ms_frag_result_all = pd.concat(ms_fragger_files)\n",
    "ms_frag_result_all.to_csv(ms_fragger_path.replace(ms_fragger_path.split('\\\\')[-1],'msms.prosit'),columns=['RAW_FILE','SCAN_NUMBER',\n",
    "                          'MODIFIED_SEQUENCE','PRECURSOR_CHARGE','SCAN_EVENT_NUMBER',\n",
    "                          'MASS','RETENTION_TIME','SCORE','REVERSE','SEQUENCE','PEPTIDE_LENGTH'],index=False)"
   ]
  },
  {
   "cell_type": "code",
   "execution_count": null,
   "metadata": {},
   "outputs": [],
   "source": []
  },
  {
   "cell_type": "code",
   "execution_count": null,
   "metadata": {},
   "outputs": [],
   "source": []
  },
  {
   "cell_type": "code",
   "execution_count": null,
   "metadata": {},
   "outputs": [],
   "source": [
    "#The old one_generates one file\n",
    "ms_fragger_path = '/home/thinkpad/HLA_Files/G0103/G0103_MSFragger/*/**.pepXML'\n",
    "paths = [f for f in iglob(ms_fragger_path)]\n",
    "for ms_fragger_path in paths:\n",
    "    ms_frag_result = pepxml.DataFrame(ms_fragger_path)\n",
    "    ms_frag_result['Decoy'] = ms_frag_result['protein'].apply(lambda x: 'rev' in str(x))\n",
    "    ms_frag_result['RAW_FILE'] = ms_frag_result['spectrum'].apply(lambda x: x.split('.')[0])\n",
    "    ms_frag_result['RETENTION_TIME'] = ms_frag_result['retention_time_sec'].apply(lambda x: x/60.0)\n",
    "    ms_frag_result['MASS'] = ms_frag_result['precursor_neutral_mass']\n",
    "    ms_frag_result['PEPTIDE_LENGTH'] = ms_frag_result['peptide'].apply(lambda x: len(x))\n",
    "    ms_frag_result['MODIFIED_SEQUENCE'] = ms_frag_result['modified_peptide']\n",
    "    ms_frag_result['MODIFIED_SEQUENCE'] = ms_frag_result['MODIFIED_SEQUENCE'].str.replace('147','UNIMOD:35')\n",
    "    ms_frag_result['MODIFIED_SEQUENCE'] = ms_frag_result['MODIFIED_SEQUENCE'].str.replace('160','UNIMOD:4')\n",
    "    ms_frag_result['MODIFIED_SEQUENCE'] = ms_frag_result['MODIFIED_SEQUENCE'].str.replace('n\\[43\\]','[UNIMOD:1]-')\n",
    "\n",
    "\n",
    "    ms_frag_result.rename(columns={'assumed_charge':'PRECURSOR_CHARGE','index':'SCAN_EVENT_NUMBER','Decoy':'REVERSE',\n",
    "                                  'peptide':'SEQUENCE','start_scan':'SCAN_NUMBER'},inplace=True)\n",
    "    ms_frag_result.rename(columns={'hyperscore':'SCORE'},inplace=True)\n",
    "    \n",
    "    \n",
    "    ms_frag_result.to_csv(ms_fragger_path.replace(ms_fragger_path.split('\\\\')[-1],'msms.prosit'),columns=['RAW_FILE','SCAN_NUMBER',\n",
    "                          'MODIFIED_SEQUENCE','PRECURSOR_CHARGE','SCAN_EVENT_NUMBER',\n",
    "                          'MASS','RETENTION_TIME','SCORE','REVERSE','SEQUENCE','PEPTIDE_LENGTH'],index=False)"
   ]
  }
 ],
 "metadata": {
  "kernelspec": {
   "display_name": "oktoberfest",
   "language": "python",
   "name": "python3"
  },
  "language_info": {
   "codemirror_mode": {
    "name": "ipython",
    "version": 3
   },
   "file_extension": ".py",
   "mimetype": "text/x-python",
   "name": "python",
   "nbconvert_exporter": "python",
   "pygments_lexer": "ipython3",
   "version": "3.9.0"
  },
  "orig_nbformat": 4
 },
 "nbformat": 4,
 "nbformat_minor": 2
}
